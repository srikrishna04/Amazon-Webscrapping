{
 "cells": [
  {
   "cell_type": "code",
   "execution_count": 1,
   "id": "c02e510c",
   "metadata": {},
   "outputs": [],
   "source": [
    "from bs4 import BeautifulSoup\n",
    "import requests\n",
    "import smtplib\n",
    "import time\n",
    "import datetime"
   ]
  },
  {
   "cell_type": "code",
   "execution_count": 2,
   "id": "819f5d8a",
   "metadata": {},
   "outputs": [],
   "source": [
    "def check_difference():\n",
    "    url = \"https://www.amazon.in/Miraan-Sleeve-Casual-Light-blue-SIGLIGHTDENIMM/dp/B0B21D6FHH/ref=sr_1_1?pf_rd_i=27059570031&pf_rd_m=A1K21FY43GMZF8&pf_rd_p=fdb19f0c-823b-4685-8770-ce27aad03b75&pf_rd_r=6dde2ea1-8754-4f7d-bd7c-5da0bea6603a&pf_rd_s=center-1&pf_rd_t=101&qid=1677589934&refinements=p_n_material_browse%3A1974777031%2Cp_85%3A10440599031%2Cp_72%3A1318477031&rnid=1318475031&rps=1&s=apparel&sr=1-1\"\n",
    "    headers = {\"User-Agent\": \"Mozilla/5.0 (Windows NT 10.0; Win64; x64) AppleWebKit/537.36 (KHTML, like Gecko) Chrome/113.0.0.0 Safari/537.36\"}\n",
    "    page = requests.get(url, headers=headers)\n",
    "    soup1 = BeautifulSoup(page.content, \"html.parser\")\n",
    "    soup2 = BeautifulSoup(soup1.prettify(), \"html.parser\")\n",
    "    title = soup2.find(id='productTitle').get_text()\n",
    "    price = soup2.findAll(\"span\", {\"class\":\"a-offscreen\"})\n",
    "    price = price[0].text.strip()[1:]\n",
    "    print(price)\n",
    "    today = datetime.date.today()\n",
    "    import csv\n",
    "    header = [\"title\",\"price\",\"Date\"]\n",
    "    data = [title,price,today]\n",
    "    with open('AmazonWebScraperDataset.csv', 'w', newline='', encoding='UTF8') as f:\n",
    "        writer = csv.writer(f)\n",
    "        writer.writerow(header)\n",
    "        writer.writerow(data)"
   ]
  },
  {
   "cell_type": "code",
   "execution_count": 3,
   "id": "122e2218",
   "metadata": {},
   "outputs": [],
   "source": [
    "def send_email():\n",
    "    server = smtplib.SMTP('smtp.gmail.com', 587)\n",
    "    server.ehlo()\n",
    "    server.starttls()\n",
    "    server.ehlo()\n",
    "\n",
    "    server.login('xxxxxxxxxxxxx@gmail.com', 'xxxxxxxxxx')\n",
    "\n",
    "    subject = \"Price just fell down!\"\n",
    "    body =\"Price just fell down!\\nCheck the link\"+url\n",
    "\n",
    "    msg = f\"Subject: {subject}\\n\\n{body}\"\n",
    "\n",
    "    server.sendmail(\n",
    "        'srirambairi465@gmail.com',\n",
    "        'srirambairi465@gmail.com',\n",
    "        msg\n",
    "    )\n",
    "    print('HEY! MAIL HAS BEEN SENT')\n",
    "\n",
    "    server.quit()"
   ]
  },
  {
   "cell_type": "code",
   "execution_count": 4,
   "id": "9ffe3ad3",
   "metadata": {},
   "outputs": [],
   "source": [
    "# def send_mail():\n",
    "#     server = smtplib.SMTP_SSL('smtp.gmail.com',465)\n",
    "#     server.ehlo()\n",
    "#     #server.starttls()\n",
    "#     server.ehlo()\n",
    "#     server.login('xxxxxxxxxxxxxxxxxx.com','xxxxxxxxxx')\n",
    "    \n",
    "#     subject = \"The Shirt you want is below $15! Now is your chance to buy!\"\n",
    "#     body = \"Krishna, This is the moment we have been waiting for. Now is your chance to pick up the shirt of your dreams. Don't mess it up! Link here: https://www.amazon.com/Funny-Data-Systems-Business-Analyst/dp/B07FNW9FGJ/ref=sr_1_3?dchild=1&keywords=data+analyst+tshirt&qid=1626655184&sr=8-3\"\n",
    "   \n",
    "#     msg = f\"Subject: {subject}\\n\\n{body}\"\n",
    "    \n",
    "#     server.sendmail(\n",
    "#         'yyyyyyyyyyyyyyyyy@gmail.com',\n",
    "#         msg\n",
    "     \n",
    "#     )"
   ]
  },
  {
   "cell_type": "code",
   "execution_count": null,
   "id": "717cbd41",
   "metadata": {},
   "outputs": [],
   "source": [
    "while(True):\n",
    "    check_difference()\n",
    "    send_email()\n",
    "    time.sleep(5)\n",
    "    import pandas as pd\n",
    "    df = pd.read_csv(r'C:\\Users\\srira\\AmazonWebScraperDataset.csv')\n",
    "    print(df)"
   ]
  },
  {
   "cell_type": "code",
   "execution_count": null,
   "id": "5a025717",
   "metadata": {},
   "outputs": [],
   "source": []
  },
  {
   "cell_type": "code",
   "execution_count": null,
   "id": "b8080857",
   "metadata": {},
   "outputs": [],
   "source": []
  },
  {
   "cell_type": "code",
   "execution_count": null,
   "id": "ae4d9da1",
   "metadata": {},
   "outputs": [],
   "source": []
  },
  {
   "cell_type": "code",
   "execution_count": null,
   "id": "06647ab6",
   "metadata": {},
   "outputs": [],
   "source": []
  },
  {
   "cell_type": "code",
   "execution_count": null,
   "id": "fd01927c",
   "metadata": {},
   "outputs": [],
   "source": []
  },
  {
   "cell_type": "code",
   "execution_count": null,
   "id": "984b5bd3",
   "metadata": {},
   "outputs": [],
   "source": []
  },
  {
   "cell_type": "code",
   "execution_count": null,
   "id": "40298112",
   "metadata": {},
   "outputs": [],
   "source": []
  },
  {
   "cell_type": "code",
   "execution_count": null,
   "id": "7f41975e",
   "metadata": {},
   "outputs": [],
   "source": []
  }
 ],
 "metadata": {
  "kernelspec": {
   "display_name": "Python 3 (ipykernel)",
   "language": "python",
   "name": "python3"
  },
  "language_info": {
   "codemirror_mode": {
    "name": "ipython",
    "version": 3
   },
   "file_extension": ".py",
   "mimetype": "text/x-python",
   "name": "python",
   "nbconvert_exporter": "python",
   "pygments_lexer": "ipython3",
   "version": "3.11.4"
  }
 },
 "nbformat": 4,
 "nbformat_minor": 5
}
